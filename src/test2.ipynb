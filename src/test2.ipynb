{
 "cells": [
  {
   "cell_type": "code",
   "execution_count": 2,
   "metadata": {},
   "outputs": [],
   "source": [
    "import mnist_loader\n",
    "\n",
    "training_data, validation_data, test_data = mnist_loader.load_data_wrapper()"
   ]
  },
  {
   "cell_type": "markdown",
   "metadata": {},
   "source": []
  },
  {
   "cell_type": "code",
   "execution_count": 3,
   "metadata": {},
   "outputs": [],
   "source": [
    "import network\n",
    "import network2"
   ]
  },
  {
   "cell_type": "code",
   "execution_count": 4,
   "metadata": {},
   "outputs": [],
   "source": [
    "netOne = network.Network([784, 30, 10])\n",
    "net = network2.Network([784, 30, 10], cost=network2.CrossEntropyCost())"
   ]
  },
  {
   "cell_type": "code",
   "execution_count": 9,
   "metadata": {},
   "outputs": [
    {
     "name": "stdout",
     "output_type": "stream",
     "text": [
      "Epoch 0 training complete\n",
      "Accuracy on evaluation data: 9378 / 10000\n",
      "Epoch 1 training complete\n",
      "Accuracy on evaluation data: 9427 / 10000\n",
      "Epoch 2 training complete\n",
      "Accuracy on evaluation data: 9478 / 10000\n",
      "Epoch 3 training complete\n",
      "Accuracy on evaluation data: 9481 / 10000\n",
      "Epoch 4 training complete\n",
      "Accuracy on evaluation data: 9455 / 10000\n",
      "Epoch 5 training complete\n",
      "Accuracy on evaluation data: 9514 / 10000\n",
      "Epoch 6 training complete\n",
      "Accuracy on evaluation data: 9528 / 10000\n",
      "Epoch 7 training complete\n",
      "Accuracy on evaluation data: 9532 / 10000\n",
      "Epoch 8 training complete\n",
      "Accuracy on evaluation data: 9495 / 10000\n",
      "Epoch 9 training complete\n",
      "Accuracy on evaluation data: 9529 / 10000\n",
      "Epoch 10 training complete\n",
      "Accuracy on evaluation data: 9495 / 10000\n",
      "Epoch 11 training complete\n",
      "Accuracy on evaluation data: 9525 / 10000\n",
      "Evaluation data improved in the last 10 epochs.\n",
      "Epoch 12 training complete\n",
      "Accuracy on evaluation data: 9531 / 10000\n",
      "Evaluation data improved in the last 10 epochs.\n",
      "Epoch 13 training complete\n",
      "Accuracy on evaluation data: 9510 / 10000\n",
      "Evaluation data improved in the last 10 epochs.\n",
      "Epoch 14 training complete\n",
      "Accuracy on evaluation data: 9483 / 10000\n",
      "Evaluation data improved in the last 10 epochs.\n",
      "Epoch 15 training complete\n",
      "Accuracy on evaluation data: 9518 / 10000\n",
      "Evaluation data improved in the last 10 epochs.\n",
      "Epoch 16 training complete\n",
      "Accuracy on evaluation data: 9443 / 10000\n",
      "Evaluation data improved in the last 10 epochs.\n",
      "Epoch 17 training complete\n",
      "Accuracy on evaluation data: 9423 / 10000\n",
      "Stopping Early: No improvement in classification accuracy in the last 10 epochs.\n"
     ]
    }
   ],
   "source": [
    "net.SGD(training_data, 30, mini_batch_size=10, eta=0.3, no_improvement_in=10, no_improvement_average=False, lmbda=0.0, evaluation_data=validation_data, monitor_evaluation_accuracy=True)"
   ]
  }
 ],
 "metadata": {
  "kernelspec": {
   "display_name": "Python 3",
   "language": "python",
   "name": "python3"
  },
  "language_info": {
   "codemirror_mode": {
    "name": "ipython",
    "version": 3
   },
   "file_extension": ".py",
   "mimetype": "text/x-python",
   "name": "python",
   "nbconvert_exporter": "python",
   "pygments_lexer": "ipython3",
   "version": "3.12.2"
  }
 },
 "nbformat": 4,
 "nbformat_minor": 2
}
