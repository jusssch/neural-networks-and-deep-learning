{
 "cells": [
  {
   "cell_type": "code",
   "execution_count": 1,
   "metadata": {},
   "outputs": [],
   "source": [
    "import mnist_loader\n",
    "\n",
    "training_data, validation_data, test_data = mnist_loader.load_data_wrapper()"
   ]
  },
  {
   "cell_type": "code",
   "execution_count": 9,
   "metadata": {},
   "outputs": [],
   "source": [
    "import network\n",
    "import network2"
   ]
  },
  {
   "cell_type": "code",
   "execution_count": 3,
   "metadata": {},
   "outputs": [],
   "source": [
    "netOne = network.Network([784, 30, 10])\n",
    "net = network2.Network([784, 30, 10], cost=network2.CrossEntropyCost())"
   ]
  },
  {
   "cell_type": "code",
   "execution_count": 5,
   "metadata": {},
   "outputs": [
    {
     "name": "stdout",
     "output_type": "stream",
     "text": [
      "Epoch 0 training complete\n",
      "Accuracy on evaluation data: 9503 / 10000\n",
      "Epoch 1 training complete\n",
      "Accuracy on evaluation data: 9524 / 10000\n",
      "Epoch 2 training complete\n",
      "Accuracy on evaluation data: 9531 / 10000\n",
      "Epoch 3 training complete\n",
      "Accuracy on evaluation data: 9445 / 10000\n",
      "Epoch 4 training complete\n",
      "Accuracy on evaluation data: 9521 / 10000\n",
      "Epoch 5 training complete\n",
      "Accuracy on evaluation data: 9545 / 10000\n",
      "Epoch 6 training complete\n",
      "Accuracy on evaluation data: 9532 / 10000\n",
      "Epoch 7 training complete\n",
      "Accuracy on evaluation data: 9539 / 10000\n",
      "Epoch 8 training complete\n",
      "Accuracy on evaluation data: 9561 / 10000\n",
      "Epoch 9 training complete\n",
      "Accuracy on evaluation data: 9540 / 10000\n",
      "Epoch 10 training complete\n",
      "Accuracy on evaluation data: 9559 / 10000\n",
      "Epoch 11 training complete\n",
      "Accuracy on evaluation data: 9587 / 10000\n",
      "Epoch 12 training complete\n",
      "Accuracy on evaluation data: 9560 / 10000\n",
      "Epoch 13 training complete\n",
      "Accuracy on evaluation data: 9561 / 10000\n",
      "Epoch 14 training complete\n",
      "Accuracy on evaluation data: 9569 / 10000\n",
      "Epoch 15 training complete\n",
      "Accuracy on evaluation data: 9570 / 10000\n",
      "Epoch 16 training complete\n",
      "Accuracy on evaluation data: 9577 / 10000\n",
      "Epoch 17 training complete\n",
      "Accuracy on evaluation data: 9574 / 10000\n",
      "Epoch 18 training complete\n",
      "Accuracy on evaluation data: 9577 / 10000\n",
      "Epoch 19 training complete\n",
      "Accuracy on evaluation data: 9587 / 10000\n",
      "Epoch 20 training complete\n",
      "Accuracy on evaluation data: 9539 / 10000\n",
      "Epoch 21 training complete\n",
      "Accuracy on evaluation data: 9563 / 10000\n",
      "Epoch 22 training complete\n",
      "Accuracy on evaluation data: 9558 / 10000\n",
      "Epoch 23 training complete\n",
      "Accuracy on evaluation data: 9550 / 10000\n",
      "Epoch 24 training complete\n",
      "Accuracy on evaluation data: 9546 / 10000\n",
      "Epoch 25 training complete\n",
      "Accuracy on evaluation data: 9583 / 10000\n",
      "Epoch 26 training complete\n",
      "Accuracy on evaluation data: 9546 / 10000\n",
      "Epoch 27 training complete\n",
      "Accuracy on evaluation data: 9577 / 10000\n",
      "Epoch 28 training complete\n",
      "Accuracy on evaluation data: 9578 / 10000\n",
      "Epoch 29 training complete\n",
      "Accuracy on evaluation data: 9596 / 10000\n"
     ]
    },
    {
     "data": {
      "text/plain": [
       "([],\n",
       " [9503,\n",
       "  9524,\n",
       "  9531,\n",
       "  9445,\n",
       "  9521,\n",
       "  9545,\n",
       "  9532,\n",
       "  9539,\n",
       "  9561,\n",
       "  9540,\n",
       "  9559,\n",
       "  9587,\n",
       "  9560,\n",
       "  9561,\n",
       "  9569,\n",
       "  9570,\n",
       "  9577,\n",
       "  9574,\n",
       "  9577,\n",
       "  9587,\n",
       "  9539,\n",
       "  9563,\n",
       "  9558,\n",
       "  9550,\n",
       "  9546,\n",
       "  9583,\n",
       "  9546,\n",
       "  9577,\n",
       "  9578,\n",
       "  9596],\n",
       " [],\n",
       " [])"
      ]
     },
     "execution_count": 5,
     "metadata": {},
     "output_type": "execute_result"
    }
   ],
   "source": [
    "net.SGD(training_data, 30, 10, 0.1, lmbda=5.0, evaluation_data=validation_data, monitor_evaluation_accuracy=True)"
   ]
  },
  {
   "cell_type": "code",
   "execution_count": 8,
   "metadata": {},
   "outputs": [
    {
     "name": "stdout",
     "output_type": "stream",
     "text": [
      "Epoch 0 training complete\n",
      "Accuracy on evaluation data: 9551 / 10000\n",
      "Epoch 1 training complete\n",
      "Accuracy on evaluation data: 9558 / 10000\n",
      "Epoch 2 training complete\n",
      "Accuracy on evaluation data: 9556 / 10000\n",
      "Epoch 3 training complete\n",
      "Accuracy on evaluation data: 9562 / 10000\n",
      "Epoch 4 training complete\n",
      "Accuracy on evaluation data: 9551 / 10000\n",
      "Epoch 5 training complete\n",
      "Accuracy on evaluation data: 9582 / 10000\n",
      "Epoch 6 training complete\n",
      "Accuracy on evaluation data: 9554 / 10000\n",
      "Epoch 7 training complete\n",
      "Accuracy on evaluation data: 9573 / 10000\n",
      "Epoch 8 training complete\n",
      "Accuracy on evaluation data: 9588 / 10000\n",
      "Epoch 9 training complete\n",
      "Accuracy on evaluation data: 9588 / 10000\n",
      "Epoch 10 training complete\n",
      "Accuracy on evaluation data: 9573 / 10000\n",
      "Epoch 11 training complete\n",
      "Accuracy on evaluation data: 9575 / 10000\n"
     ]
    },
    {
     "ename": "KeyboardInterrupt",
     "evalue": "",
     "output_type": "error",
     "traceback": [
      "\u001b[0;31m---------------------------------------------------------------------------\u001b[0m",
      "\u001b[0;31mKeyboardInterrupt\u001b[0m                         Traceback (most recent call last)",
      "Cell \u001b[0;32mIn[8], line 1\u001b[0m\n\u001b[0;32m----> 1\u001b[0m \u001b[43mnet\u001b[49m\u001b[38;5;241;43m.\u001b[39;49m\u001b[43mSGD\u001b[49m\u001b[43m(\u001b[49m\u001b[43mtraining_data\u001b[49m\u001b[43m,\u001b[49m\u001b[43m \u001b[49m\u001b[38;5;241;43m30\u001b[39;49m\u001b[43m,\u001b[49m\u001b[43m \u001b[49m\u001b[38;5;241;43m10\u001b[39;49m\u001b[43m,\u001b[49m\u001b[43m \u001b[49m\u001b[38;5;241;43m0.1\u001b[39;49m\u001b[43m,\u001b[49m\u001b[43m \u001b[49m\u001b[43mlmbda\u001b[49m\u001b[38;5;241;43m=\u001b[39;49m\u001b[38;5;241;43m0.0\u001b[39;49m\u001b[43m,\u001b[49m\u001b[43m \u001b[49m\u001b[43mevaluation_data\u001b[49m\u001b[38;5;241;43m=\u001b[39;49m\u001b[43mvalidation_data\u001b[49m\u001b[43m,\u001b[49m\u001b[43m \u001b[49m\u001b[43mmonitor_evaluation_accuracy\u001b[49m\u001b[38;5;241;43m=\u001b[39;49m\u001b[38;5;28;43;01mTrue\u001b[39;49;00m\u001b[43m)\u001b[49m\n",
      "File \u001b[0;32m~/neural-networks-and-deep-learning/src/network2.py:165\u001b[0m, in \u001b[0;36mNetwork.SGD\u001b[0;34m(self, training_data, epochs, mini_batch_size, eta, lmbda, evaluation_data, monitor_evaluation_cost, monitor_evaluation_accuracy, monitor_training_cost, monitor_training_accuracy)\u001b[0m\n\u001b[1;32m    161\u001b[0m mini_batches \u001b[38;5;241m=\u001b[39m [\n\u001b[1;32m    162\u001b[0m     training_data[k:k\u001b[38;5;241m+\u001b[39mmini_batch_size]\n\u001b[1;32m    163\u001b[0m     \u001b[38;5;28;01mfor\u001b[39;00m k \u001b[38;5;129;01min\u001b[39;00m \u001b[38;5;28mrange\u001b[39m(\u001b[38;5;241m0\u001b[39m, n, mini_batch_size)]\n\u001b[1;32m    164\u001b[0m \u001b[38;5;28;01mfor\u001b[39;00m mini_batch \u001b[38;5;129;01min\u001b[39;00m mini_batches:\n\u001b[0;32m--> 165\u001b[0m     \u001b[38;5;28;43mself\u001b[39;49m\u001b[38;5;241;43m.\u001b[39;49m\u001b[43mupdate_mini_batch\u001b[49m\u001b[43m(\u001b[49m\n\u001b[1;32m    166\u001b[0m \u001b[43m        \u001b[49m\u001b[43mmini_batch\u001b[49m\u001b[43m,\u001b[49m\u001b[43m \u001b[49m\u001b[43meta\u001b[49m\u001b[43m,\u001b[49m\u001b[43m \u001b[49m\u001b[43mlmbda\u001b[49m\u001b[43m,\u001b[49m\u001b[43m \u001b[49m\u001b[38;5;28;43mlen\u001b[39;49m\u001b[43m(\u001b[49m\u001b[43mtraining_data\u001b[49m\u001b[43m)\u001b[49m\u001b[43m)\u001b[49m\n\u001b[1;32m    167\u001b[0m \u001b[38;5;28mprint\u001b[39m(\u001b[38;5;124mf\u001b[39m\u001b[38;5;124m\"\u001b[39m\u001b[38;5;124mEpoch \u001b[39m\u001b[38;5;132;01m{\u001b[39;00mj\u001b[38;5;132;01m}\u001b[39;00m\u001b[38;5;124m training complete\u001b[39m\u001b[38;5;124m\"\u001b[39m)\n\u001b[1;32m    168\u001b[0m \u001b[38;5;28;01mif\u001b[39;00m monitor_training_cost:\n",
      "File \u001b[0;32m~/neural-networks-and-deep-learning/src/network2.py:201\u001b[0m, in \u001b[0;36mNetwork.update_mini_batch\u001b[0;34m(self, mini_batch, eta, lmbda, n)\u001b[0m\n\u001b[1;32m    199\u001b[0m nabla_w \u001b[38;5;241m=\u001b[39m [np\u001b[38;5;241m.\u001b[39mzeros(w\u001b[38;5;241m.\u001b[39mshape) \u001b[38;5;28;01mfor\u001b[39;00m w \u001b[38;5;129;01min\u001b[39;00m \u001b[38;5;28mself\u001b[39m\u001b[38;5;241m.\u001b[39mweights]\n\u001b[1;32m    200\u001b[0m \u001b[38;5;28;01mfor\u001b[39;00m x, y \u001b[38;5;129;01min\u001b[39;00m mini_batch:\n\u001b[0;32m--> 201\u001b[0m     delta_nabla_b, delta_nabla_w \u001b[38;5;241m=\u001b[39m \u001b[38;5;28;43mself\u001b[39;49m\u001b[38;5;241;43m.\u001b[39;49m\u001b[43mbackprop\u001b[49m\u001b[43m(\u001b[49m\u001b[43mx\u001b[49m\u001b[43m,\u001b[49m\u001b[43m \u001b[49m\u001b[43my\u001b[49m\u001b[43m)\u001b[49m\n\u001b[1;32m    202\u001b[0m     nabla_b \u001b[38;5;241m=\u001b[39m [nb\u001b[38;5;241m+\u001b[39mdnb \u001b[38;5;28;01mfor\u001b[39;00m nb, dnb \u001b[38;5;129;01min\u001b[39;00m \u001b[38;5;28mzip\u001b[39m(nabla_b, delta_nabla_b)]\n\u001b[1;32m    203\u001b[0m     nabla_w \u001b[38;5;241m=\u001b[39m [nw\u001b[38;5;241m+\u001b[39mdnw \u001b[38;5;28;01mfor\u001b[39;00m nw, dnw \u001b[38;5;129;01min\u001b[39;00m \u001b[38;5;28mzip\u001b[39m(nabla_w, delta_nabla_w)]\n",
      "File \u001b[0;32m~/neural-networks-and-deep-learning/src/network2.py:223\u001b[0m, in \u001b[0;36mNetwork.backprop\u001b[0;34m(self, x, y)\u001b[0m\n\u001b[1;32m    221\u001b[0m zs \u001b[38;5;241m=\u001b[39m [] \u001b[38;5;66;03m# list to store all the z vectors, layer by layer\u001b[39;00m\n\u001b[1;32m    222\u001b[0m \u001b[38;5;28;01mfor\u001b[39;00m b, w \u001b[38;5;129;01min\u001b[39;00m \u001b[38;5;28mzip\u001b[39m(\u001b[38;5;28mself\u001b[39m\u001b[38;5;241m.\u001b[39mbiases, \u001b[38;5;28mself\u001b[39m\u001b[38;5;241m.\u001b[39mweights):\n\u001b[0;32m--> 223\u001b[0m     z \u001b[38;5;241m=\u001b[39m \u001b[43mnp\u001b[49m\u001b[38;5;241;43m.\u001b[39;49m\u001b[43mdot\u001b[49m\u001b[43m(\u001b[49m\u001b[43mw\u001b[49m\u001b[43m,\u001b[49m\u001b[43m \u001b[49m\u001b[43mactivation\u001b[49m\u001b[43m)\u001b[49m\u001b[38;5;241m+\u001b[39mb\n\u001b[1;32m    224\u001b[0m     zs\u001b[38;5;241m.\u001b[39mappend(z)\n\u001b[1;32m    225\u001b[0m     activation \u001b[38;5;241m=\u001b[39m sigmoid(z)\n",
      "\u001b[0;31mKeyboardInterrupt\u001b[0m: "
     ]
    }
   ],
   "source": [
    "net.SGD(training_data, 30, 10, 0.1, lmbda=0.0, evaluation_data=validation_data, monitor_evaluation_accuracy=True)"
   ]
  },
  {
   "cell_type": "code",
   "execution_count": null,
   "metadata": {},
   "outputs": [],
   "source": []
  }
 ],
 "metadata": {
  "kernelspec": {
   "display_name": "Python 3",
   "language": "python",
   "name": "python3"
  },
  "language_info": {
   "codemirror_mode": {
    "name": "ipython",
    "version": 3
   },
   "file_extension": ".py",
   "mimetype": "text/x-python",
   "name": "python",
   "nbconvert_exporter": "python",
   "pygments_lexer": "ipython3",
   "version": "3.12.2"
  }
 },
 "nbformat": 4,
 "nbformat_minor": 2
}
