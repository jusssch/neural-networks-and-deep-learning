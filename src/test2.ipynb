{
 "cells": [
  {
   "cell_type": "code",
   "execution_count": 1,
   "metadata": {},
   "outputs": [],
   "source": [
    "import mnist_loader\n",
    "\n",
    "training_data, validation_data, test_data = mnist_loader.load_data_wrapper()"
   ]
  },
  {
   "cell_type": "markdown",
   "metadata": {},
   "source": []
  },
  {
   "cell_type": "code",
   "execution_count": 2,
   "metadata": {},
   "outputs": [],
   "source": [
    "import network\n",
    "import network2"
   ]
  },
  {
   "cell_type": "code",
   "execution_count": 3,
   "metadata": {},
   "outputs": [],
   "source": [
    "netOne = network.Network([784, 30, 10])\n",
    "net = network2.Network([784, 30, 10], cost=network2.CrossEntropyCost())"
   ]
  },
  {
   "cell_type": "code",
   "execution_count": 9,
   "metadata": {},
   "outputs": [
    {
     "name": "stdout",
     "output_type": "stream",
     "text": [
      "Epoch 0 training complete\n",
      "Accuracy on evaluation data: 9378 / 10000\n",
      "Epoch 1 training complete\n",
      "Accuracy on evaluation data: 9427 / 10000\n",
      "Epoch 2 training complete\n",
      "Accuracy on evaluation data: 9478 / 10000\n",
      "Epoch 3 training complete\n",
      "Accuracy on evaluation data: 9481 / 10000\n",
      "Epoch 4 training complete\n",
      "Accuracy on evaluation data: 9455 / 10000\n",
      "Epoch 5 training complete\n",
      "Accuracy on evaluation data: 9514 / 10000\n",
      "Epoch 6 training complete\n",
      "Accuracy on evaluation data: 9528 / 10000\n",
      "Epoch 7 training complete\n",
      "Accuracy on evaluation data: 9532 / 10000\n",
      "Epoch 8 training complete\n",
      "Accuracy on evaluation data: 9495 / 10000\n",
      "Epoch 9 training complete\n",
      "Accuracy on evaluation data: 9529 / 10000\n",
      "Epoch 10 training complete\n",
      "Accuracy on evaluation data: 9495 / 10000\n",
      "Epoch 11 training complete\n",
      "Accuracy on evaluation data: 9525 / 10000\n",
      "Evaluation data improved in the last 10 epochs.\n",
      "Epoch 12 training complete\n",
      "Accuracy on evaluation data: 9531 / 10000\n",
      "Evaluation data improved in the last 10 epochs.\n",
      "Epoch 13 training complete\n",
      "Accuracy on evaluation data: 9510 / 10000\n",
      "Evaluation data improved in the last 10 epochs.\n",
      "Epoch 14 training complete\n",
      "Accuracy on evaluation data: 9483 / 10000\n",
      "Evaluation data improved in the last 10 epochs.\n",
      "Epoch 15 training complete\n",
      "Accuracy on evaluation data: 9518 / 10000\n",
      "Evaluation data improved in the last 10 epochs.\n",
      "Epoch 16 training complete\n",
      "Accuracy on evaluation data: 9443 / 10000\n",
      "Evaluation data improved in the last 10 epochs.\n",
      "Epoch 17 training complete\n",
      "Accuracy on evaluation data: 9423 / 10000\n",
      "Stopping Early: No improvement in classification accuracy in the last 10 epochs.\n"
     ]
    }
   ],
   "source": [
    "net.SGD(training_data, 30, mini_batch_size=10, eta=0.3, no_improvement_in=10, no_improvement_average=False, lmbda=0.0, evaluation_data=validation_data, monitor_evaluation_accuracy=True)"
   ]
  },
  {
   "cell_type": "code",
   "execution_count": 8,
   "metadata": {},
   "outputs": [
    {
     "name": "stdout",
     "output_type": "stream",
     "text": [
      "Epoch 0 training complete\n",
      "Accuracy on evaluation data: 9040 / 10000\n",
      "Epoch 1 training complete\n",
      "Accuracy on evaluation data: 9226 / 10000\n",
      "Epoch 2 training complete\n",
      "Accuracy on evaluation data: 9051 / 10000\n",
      "Epoch 3 training complete\n",
      "Accuracy on evaluation data: 9216 / 10000\n",
      "Epoch 4 training complete\n",
      "Accuracy on evaluation data: 9081 / 10000\n",
      "Epoch 5 training complete\n",
      "Accuracy on evaluation data: 9090 / 10000\n",
      "Epoch 6 training complete\n",
      "Accuracy on evaluation data: 9246 / 10000\n",
      "Epoch 7 training complete\n",
      "Accuracy on evaluation data: 9097 / 10000\n",
      "Epoch 8 training complete\n",
      "Accuracy on evaluation data: 9095 / 10000\n",
      "Epoch 9 training complete\n",
      "Accuracy on evaluation data: 9316 / 10000\n",
      "Epoch 10 training complete\n",
      "Accuracy on evaluation data: 8760 / 10000\n",
      "Epoch 11 training complete\n",
      "Accuracy on evaluation data: 9197 / 10000\n",
      "Current validation accuracy (9197) is greater than average in the last 10 epochs (9117.8).\n",
      "New learning rate: 0.25; prev: 0.5; bigger than 0.5/128: 0.00390625\n",
      "Epoch 12 training complete\n",
      "Accuracy on evaluation data: 9397 / 10000\n",
      "Current validation accuracy (9397) is greater than average in the last 10 epochs (9114.9).\n",
      "New learning rate: 0.125; prev: 0.25; bigger than 0.5/128: 0.00390625\n",
      "Epoch 13 training complete\n",
      "Accuracy on evaluation data: 9475 / 10000\n",
      "Current validation accuracy (9475) is greater than average in the last 10 epochs (9149.5).\n",
      "New learning rate: 0.0625; prev: 0.125; bigger than 0.5/128: 0.00390625\n",
      "Epoch 14 training complete\n",
      "Accuracy on evaluation data: 9527 / 10000\n",
      "Current validation accuracy (9527) is greater than average in the last 10 epochs (9175.4).\n",
      "New learning rate: 0.03125; prev: 0.0625; bigger than 0.5/128: 0.00390625\n",
      "Epoch 15 training complete\n",
      "Accuracy on evaluation data: 9520 / 10000\n",
      "Current validation accuracy (9520) is greater than average in the last 10 epochs (9220.0).\n",
      "New learning rate: 0.015625; prev: 0.03125; bigger than 0.5/128: 0.00390625\n",
      "Epoch 16 training complete\n",
      "Accuracy on evaluation data: 9540 / 10000\n",
      "Current validation accuracy (9540) is greater than average in the last 10 epochs (9263.0).\n",
      "New learning rate: 0.0078125; prev: 0.015625; bigger than 0.5/128: 0.00390625\n",
      "Epoch 17 training complete\n",
      "Accuracy on evaluation data: 9542 / 10000\n",
      "Current validation accuracy (9542) is greater than average in the last 10 epochs (9292.4).\n",
      "New learning rate: 0.00390625; prev: 0.0078125; bigger than 0.5/128: 0.00390625\n",
      "Epoch 18 training complete\n",
      "Accuracy on evaluation data: 9542 / 10000\n",
      "Current validation accuracy (9542) is greater than average in the last 10 epochs (9336.9).\n",
      "Epoch 19 training complete\n",
      "Accuracy on evaluation data: 9538 / 10000\n",
      "Current validation accuracy (9538) is greater than average in the last 10 epochs (9381.6).\n",
      "Epoch 20 training complete\n",
      "Accuracy on evaluation data: 9542 / 10000\n",
      "Current validation accuracy (9542) is greater than average in the last 10 epochs (9403.8).\n",
      "Epoch 21 training complete\n",
      "Accuracy on evaluation data: 9540 / 10000\n",
      "Current validation accuracy (9540) is greater than average in the last 10 epochs (9482.0).\n",
      "Epoch 22 training complete\n",
      "Accuracy on evaluation data: 9544 / 10000\n",
      "Current validation accuracy (9544) is greater than average in the last 10 epochs (9516.3).\n",
      "Epoch 23 training complete\n",
      "Accuracy on evaluation data: 9546 / 10000\n",
      "Current validation accuracy (9546) is greater than average in the last 10 epochs (9531.0).\n",
      "Epoch 24 training complete\n",
      "Accuracy on evaluation data: 9542 / 10000\n",
      "Current validation accuracy (9542) is greater than average in the last 10 epochs (9538.1).\n",
      "Epoch 25 training complete\n",
      "Accuracy on evaluation data: 9544 / 10000\n",
      "Current validation accuracy (9544) is greater than average in the last 10 epochs (9539.6).\n",
      "Epoch 26 training complete\n",
      "Accuracy on evaluation data: 9540 / 10000\n",
      "Stopping Early: Current validation accuracy (9540) < than average last 10 epochs (9542.0).\n"
     ]
    }
   ],
   "source": [
    "# With learning schedule\n",
    "net.SGD(training_data, 30, mini_batch_size=10, eta=0.5, no_improvement_in=10, no_improvement_average=True, lmbda=5.0, evaluation_data=validation_data, monitor_evaluation_accuracy=True)"
   ]
  }
 ],
 "metadata": {
  "kernelspec": {
   "display_name": "Python 3",
   "language": "python",
   "name": "python3"
  },
  "language_info": {
   "codemirror_mode": {
    "name": "ipython",
    "version": 3
   },
   "file_extension": ".py",
   "mimetype": "text/x-python",
   "name": "python",
   "nbconvert_exporter": "python",
   "pygments_lexer": "ipython3",
   "version": "3.12.2"
  }
 },
 "nbformat": 4,
 "nbformat_minor": 2
}
