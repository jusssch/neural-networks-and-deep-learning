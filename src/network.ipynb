{
 "cells": [
  {
   "cell_type": "code",
   "execution_count": 15,
   "metadata": {},
   "outputs": [],
   "source": [
    "from network import Network\n",
    "import mnist_loader"
   ]
  },
  {
   "cell_type": "code",
   "execution_count": 16,
   "metadata": {},
   "outputs": [],
   "source": [
    "training_data, validation_data, test_data = mnist_loader.load_data_wrapper()\n",
    "network = Network([784, 30, 10])"
   ]
  },
  {
   "cell_type": "code",
   "execution_count": 17,
   "metadata": {},
   "outputs": [
    {
     "name": "stdout",
     "output_type": "stream",
     "text": [
      "Epoch 0: 9035 / 10000\n",
      "Epoch 1: 9174 / 10000\n",
      "Epoch 2: 9232 / 10000\n"
     ]
    },
    {
     "name": "stderr",
     "output_type": "stream",
     "text": [
      "/Users/juliusschmid/neural-networks-and-deep-learning/src/network.py:138: SyntaxWarning: invalid escape sequence '\\p'\n",
      "  \"\"\"Return the vector of partial derivatives \\partial C_x / \\partial a for the output activations.\"\"\"\n"
     ]
    },
    {
     "ename": "KeyboardInterrupt",
     "evalue": "",
     "output_type": "error",
     "traceback": [
      "\u001b[0;31m---------------------------------------------------------------------------\u001b[0m",
      "\u001b[0;31mKeyboardInterrupt\u001b[0m                         Traceback (most recent call last)",
      "Cell \u001b[0;32mIn[17], line 1\u001b[0m\n\u001b[0;32m----> 1\u001b[0m \u001b[43mnetwork\u001b[49m\u001b[38;5;241;43m.\u001b[39;49m\u001b[43mSGD\u001b[49m\u001b[43m(\u001b[49m\u001b[43mtraining_data\u001b[49m\u001b[43m,\u001b[49m\u001b[43m \u001b[49m\u001b[38;5;241;43m30\u001b[39;49m\u001b[43m,\u001b[49m\u001b[43m \u001b[49m\u001b[38;5;241;43m15\u001b[39;49m\u001b[43m,\u001b[49m\u001b[43m \u001b[49m\u001b[38;5;241;43m3\u001b[39;49m\u001b[43m,\u001b[49m\u001b[43m \u001b[49m\u001b[43mtest_data\u001b[49m\u001b[43m)\u001b[49m\n",
      "File \u001b[0;32m~/neural-networks-and-deep-learning/src/network.py:62\u001b[0m, in \u001b[0;36mNetwork.SGD\u001b[0;34m(self, training_data, epochs, mini_batch_size, eta, test_data)\u001b[0m\n\u001b[1;32m     57\u001b[0m random\u001b[38;5;241m.\u001b[39mshuffle(training_data)\n\u001b[1;32m     58\u001b[0m mini_batches \u001b[38;5;241m=\u001b[39m [\n\u001b[1;32m     59\u001b[0m     training_data[k:k\u001b[38;5;241m+\u001b[39mmini_batch_size]\n\u001b[1;32m     60\u001b[0m     \u001b[38;5;28;01mfor\u001b[39;00m k \u001b[38;5;129;01min\u001b[39;00m \u001b[38;5;28mrange\u001b[39m(\u001b[38;5;241m0\u001b[39m, n, mini_batch_size)]\n\u001b[0;32m---> 62\u001b[0m \u001b[38;5;28mself\u001b[39m\u001b[38;5;241m.\u001b[39mupdate_mini_batch(mini_batches, eta)\n\u001b[1;32m     64\u001b[0m \u001b[38;5;28;01mif\u001b[39;00m test_data:\n\u001b[1;32m     65\u001b[0m     \u001b[38;5;28mprint\u001b[39m(\u001b[38;5;124mf\u001b[39m\u001b[38;5;124m\"\u001b[39m\u001b[38;5;124mEpoch \u001b[39m\u001b[38;5;132;01m{\u001b[39;00mj\u001b[38;5;132;01m}\u001b[39;00m\u001b[38;5;124m: \u001b[39m\u001b[38;5;132;01m{\u001b[39;00m\u001b[38;5;28mself\u001b[39m\u001b[38;5;241m.\u001b[39mevaluate(test_data)\u001b[38;5;132;01m}\u001b[39;00m\u001b[38;5;124m / \u001b[39m\u001b[38;5;132;01m{\u001b[39;00mn_test\u001b[38;5;132;01m}\u001b[39;00m\u001b[38;5;124m\"\u001b[39m)\n",
      "File \u001b[0;32m~/neural-networks-and-deep-learning/src/network.py:76\u001b[0m, in \u001b[0;36mupdate_mini_batch\u001b[0;34m(self, mini_batch, eta)\u001b[0m\n\u001b[1;32m      0\u001b[0m <Error retrieving source code with stack_data see ipython/ipython#13598>\n",
      "File \u001b[0;32m~/neural-networks-and-deep-learning/src/network.py:89\u001b[0m, in \u001b[0;36mbackprop\u001b[0;34m(self, x, y)\u001b[0m\n\u001b[1;32m     86\u001b[0m nabla_b \u001b[38;5;241m=\u001b[39m [nb\u001b[38;5;241m+\u001b[39mdnb \u001b[38;5;28;01mfor\u001b[39;00m nb, dnb \u001b[38;5;129;01min\u001b[39;00m \u001b[38;5;28mzip\u001b[39m(nabla_b, delta_nabla_b)]\n\u001b[1;32m     87\u001b[0m nabla_w \u001b[38;5;241m=\u001b[39m [nw\u001b[38;5;241m+\u001b[39mdnw \u001b[38;5;28;01mfor\u001b[39;00m nw, dnw \u001b[38;5;129;01min\u001b[39;00m \u001b[38;5;28mzip\u001b[39m(nabla_w, delta_nabla_w)]\n\u001b[1;32m     88\u001b[0m \u001b[38;5;28mself\u001b[39m\u001b[38;5;241m.\u001b[39mweights \u001b[38;5;241m=\u001b[39m [w\u001b[38;5;241m-\u001b[39m(eta\u001b[38;5;241m/\u001b[39m\u001b[38;5;28mlen\u001b[39m(mini_batch))\u001b[38;5;241m*\u001b[39mnw\n\u001b[0;32m---> 89\u001b[0m                 \u001b[38;5;28;01mfor\u001b[39;00m w, nw \u001b[38;5;129;01min\u001b[39;00m \u001b[38;5;28mzip\u001b[39m(\u001b[38;5;28mself\u001b[39m\u001b[38;5;241m.\u001b[39mweights, nabla_w)]\n\u001b[1;32m     90\u001b[0m \u001b[38;5;28mself\u001b[39m\u001b[38;5;241m.\u001b[39mbiases \u001b[38;5;241m=\u001b[39m [b\u001b[38;5;241m-\u001b[39m(eta\u001b[38;5;241m/\u001b[39m\u001b[38;5;28mlen\u001b[39m(mini_batch))\u001b[38;5;241m*\u001b[39mnb\n\u001b[1;32m     91\u001b[0m                \u001b[38;5;28;01mfor\u001b[39;00m b, nb \u001b[38;5;129;01min\u001b[39;00m \u001b[38;5;28mzip\u001b[39m(\u001b[38;5;28mself\u001b[39m\u001b[38;5;241m.\u001b[39mbiases, nabla_b)]\n",
      "\u001b[0;31mKeyboardInterrupt\u001b[0m: "
     ]
    }
   ],
   "source": [
    "network.SGD(training_data, 30, 15, 3, test_data)"
   ]
  },
  {
   "cell_type": "code",
   "execution_count": 8,
   "metadata": {},
   "outputs": [
    {
     "name": "stdout",
     "output_type": "stream",
     "text": [
      "Epoch 0: 8980 / 10000\n",
      "Epoch 1: 9168 / 10000\n",
      "Epoch 2: 9269 / 10000\n",
      "Epoch 3: 9318 / 10000\n",
      "Epoch 4: 9339 / 10000\n",
      "Epoch 5: 9384 / 10000\n",
      "Epoch 6: 9382 / 10000\n",
      "Epoch 7: 9401 / 10000\n",
      "Epoch 8: 9381 / 10000\n",
      "Epoch 9: 9426 / 10000\n",
      "Epoch 10: 9444 / 10000\n",
      "Epoch 11: 9456 / 10000\n",
      "Epoch 12: 9453 / 10000\n",
      "Epoch 13: 9460 / 10000\n",
      "Epoch 14: 9439 / 10000\n",
      "Epoch 15: 9449 / 10000\n",
      "Epoch 16: 9462 / 10000\n",
      "Epoch 17: 9478 / 10000\n",
      "Epoch 18: 9458 / 10000\n",
      "Epoch 19: 9479 / 10000\n",
      "Epoch 20: 9478 / 10000\n",
      "Epoch 21: 9465 / 10000\n",
      "Epoch 22: 9487 / 10000\n",
      "Epoch 23: 9458 / 10000\n",
      "Epoch 24: 9490 / 10000\n",
      "Epoch 25: 9483 / 10000\n",
      "Epoch 26: 9498 / 10000\n",
      "Epoch 27: 9502 / 10000\n",
      "Epoch 28: 9497 / 10000\n",
      "Epoch 29: 9490 / 10000\n"
     ]
    }
   ],
   "source": [
    "network.SGD(training_data, 30, 15, 3, test_data)"
   ]
  },
  {
   "cell_type": "code",
   "execution_count": 14,
   "metadata": {},
   "outputs": [
    {
     "name": "stdout",
     "output_type": "stream",
     "text": [
      "Epoch 0: 8974 / 10000\n",
      "Epoch 1: 9075 / 10000\n",
      "Epoch 2: 9203 / 10000\n",
      "Epoch 3: 9230 / 10000\n",
      "Epoch 4: 9311 / 10000\n",
      "Epoch 5: 9327 / 10000\n",
      "Epoch 6: 9302 / 10000\n",
      "Epoch 7: 9350 / 10000\n",
      "Epoch 8: 9377 / 10000\n",
      "Epoch 9: 9386 / 10000\n",
      "Epoch 10: 9360 / 10000\n",
      "Epoch 11: 9392 / 10000\n",
      "Epoch 12: 9346 / 10000\n",
      "Epoch 13: 9397 / 10000\n",
      "Epoch 14: 9424 / 10000\n",
      "Epoch 15: 9431 / 10000\n",
      "Epoch 16: 9393 / 10000\n",
      "Epoch 17: 9424 / 10000\n",
      "Epoch 18: 9411 / 10000\n",
      "Epoch 19: 9430 / 10000\n",
      "Epoch 20: 9417 / 10000\n",
      "Epoch 21: 9430 / 10000\n",
      "Epoch 22: 9420 / 10000\n",
      "Epoch 23: 9438 / 10000\n",
      "Epoch 24: 9443 / 10000\n",
      "Epoch 25: 9434 / 10000\n",
      "Epoch 26: 9433 / 10000\n",
      "Epoch 27: 9447 / 10000\n",
      "Epoch 28: 9433 / 10000\n",
      "Epoch 29: 9460 / 10000\n"
     ]
    }
   ],
   "source": [
    "network.SGD(training_data, 30, 15, 3, test_data)"
   ]
  },
  {
   "cell_type": "code",
   "execution_count": null,
   "metadata": {},
   "outputs": [],
   "source": []
  }
 ],
 "metadata": {
  "kernelspec": {
   "display_name": "Python 3",
   "language": "python",
   "name": "python3"
  },
  "language_info": {
   "codemirror_mode": {
    "name": "ipython",
    "version": 3
   },
   "file_extension": ".py",
   "mimetype": "text/x-python",
   "name": "python",
   "nbconvert_exporter": "python",
   "pygments_lexer": "ipython3",
   "version": "3.12.2"
  }
 },
 "nbformat": 4,
 "nbformat_minor": 2
}
