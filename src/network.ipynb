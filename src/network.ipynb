{
 "cells": [
  {
   "cell_type": "code",
   "execution_count": 6,
   "metadata": {},
   "outputs": [],
   "source": [
    "from network import Network\n",
    "import mnist_loader"
   ]
  },
  {
   "cell_type": "code",
   "execution_count": 7,
   "metadata": {},
   "outputs": [],
   "source": [
    "training_data, validation_data, test_data = mnist_loader.load_data_wrapper()\n",
    "network = Network([784, 30, 10])"
   ]
  },
  {
   "cell_type": "code",
   "execution_count": 5,
   "metadata": {},
   "outputs": [
    {
     "name": "stdout",
     "output_type": "stream",
     "text": [
      "Epoch 0: 8951 / 10000\n",
      "Epoch 1: 9181 / 10000\n",
      "Epoch 2: 9252 / 10000\n",
      "Epoch 3: 9310 / 10000\n",
      "Epoch 4: 9376 / 10000\n",
      "Epoch 5: 9349 / 10000\n",
      "Epoch 6: 9378 / 10000\n",
      "Epoch 7: 9384 / 10000\n",
      "Epoch 8: 9416 / 10000\n",
      "Epoch 9: 9428 / 10000\n",
      "Epoch 10: 9393 / 10000\n",
      "Epoch 11: 9450 / 10000\n",
      "Epoch 12: 9429 / 10000\n",
      "Epoch 13: 9479 / 10000\n",
      "Epoch 14: 9463 / 10000\n",
      "Epoch 15: 9457 / 10000\n",
      "Epoch 16: 9463 / 10000\n",
      "Epoch 17: 9479 / 10000\n",
      "Epoch 18: 9482 / 10000\n",
      "Epoch 19: 9482 / 10000\n",
      "Epoch 20: 9445 / 10000\n",
      "Epoch 21: 9493 / 10000\n",
      "Epoch 22: 9486 / 10000\n",
      "Epoch 23: 9499 / 10000\n",
      "Epoch 24: 9477 / 10000\n",
      "Epoch 25: 9488 / 10000\n",
      "Epoch 26: 9496 / 10000\n",
      "Epoch 27: 9482 / 10000\n",
      "Epoch 28: 9479 / 10000\n",
      "Epoch 29: 9465 / 10000\n"
     ]
    }
   ],
   "source": [
    "network.SGD(training_data, 30, 15, 3, test_data)"
   ]
  },
  {
   "cell_type": "code",
   "execution_count": 8,
   "metadata": {},
   "outputs": [
    {
     "name": "stdout",
     "output_type": "stream",
     "text": [
      "Epoch 0: 8980 / 10000\n",
      "Epoch 1: 9168 / 10000\n",
      "Epoch 2: 9269 / 10000\n",
      "Epoch 3: 9318 / 10000\n",
      "Epoch 4: 9339 / 10000\n",
      "Epoch 5: 9384 / 10000\n",
      "Epoch 6: 9382 / 10000\n",
      "Epoch 7: 9401 / 10000\n",
      "Epoch 8: 9381 / 10000\n",
      "Epoch 9: 9426 / 10000\n",
      "Epoch 10: 9444 / 10000\n",
      "Epoch 11: 9456 / 10000\n",
      "Epoch 12: 9453 / 10000\n",
      "Epoch 13: 9460 / 10000\n",
      "Epoch 14: 9439 / 10000\n",
      "Epoch 15: 9449 / 10000\n",
      "Epoch 16: 9462 / 10000\n",
      "Epoch 17: 9478 / 10000\n",
      "Epoch 18: 9458 / 10000\n",
      "Epoch 19: 9479 / 10000\n",
      "Epoch 20: 9478 / 10000\n",
      "Epoch 21: 9465 / 10000\n",
      "Epoch 22: 9487 / 10000\n",
      "Epoch 23: 9458 / 10000\n",
      "Epoch 24: 9490 / 10000\n",
      "Epoch 25: 9483 / 10000\n",
      "Epoch 26: 9498 / 10000\n",
      "Epoch 27: 9502 / 10000\n",
      "Epoch 28: 9497 / 10000\n",
      "Epoch 29: 9490 / 10000\n"
     ]
    }
   ],
   "source": [
    "network.SGD(training_data, 30, 15, 3, test_data)"
   ]
  },
  {
   "cell_type": "code",
   "execution_count": null,
   "metadata": {},
   "outputs": [],
   "source": []
  }
 ],
 "metadata": {
  "kernelspec": {
   "display_name": "Python 3",
   "language": "python",
   "name": "python3"
  },
  "language_info": {
   "codemirror_mode": {
    "name": "ipython",
    "version": 3
   },
   "file_extension": ".py",
   "mimetype": "text/x-python",
   "name": "python",
   "nbconvert_exporter": "python",
   "pygments_lexer": "ipython3",
   "version": "3.12.2"
  }
 },
 "nbformat": 4,
 "nbformat_minor": 2
}
